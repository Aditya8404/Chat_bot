{
 "cells": [
  {
   "cell_type": "code",
   "execution_count": 1,
   "id": "53a1a68c",
   "metadata": {
    "tags": [
     "note"
    ]
   },
   "outputs": [
    {
     "data": {
      "text/plain": [
       "'2.10.0'"
      ]
     },
     "execution_count": 1,
     "metadata": {},
     "output_type": "execute_result"
    }
   ],
   "source": [
    "import tensorflow as tf\n",
    "tf.__version__"
   ]
  },
  {
   "cell_type": "code",
   "execution_count": 5,
   "id": "61e3fb53",
   "metadata": {},
   "outputs": [
    {
     "data": {
      "text/plain": [
       "[PhysicalDevice(name='/physical_device:CPU:0', device_type='CPU'),\n",
       " PhysicalDevice(name='/physical_device:GPU:0', device_type='GPU')]"
      ]
     },
     "execution_count": 5,
     "metadata": {},
     "output_type": "execute_result"
    }
   ],
   "source": [
    "tf.config.list_physical_devices()"
   ]
  },
  {
   "cell_type": "code",
   "execution_count": 7,
   "id": "ff6bd489",
   "metadata": {},
   "outputs": [],
   "source": [
    "import numpy as np\n",
    "cv = np.arange(1,101, step=0.1)\n",
    "tg = [cv + 10 for x in cv]\n",
    "\n",
    "cv = tf.cast(tf.constant(cv),dtype=tf.float32)\n",
    "tg = tf.cast(tf.constant(tg),dtype=tf.float32)"
   ]
  }
 ],
 "metadata": {
  "kernelspec": {
   "display_name": "Python 3 (ipykernel)",
   "language": "python",
   "name": "python3"
  },
  "language_info": {
   "codemirror_mode": {
    "name": "ipython",
    "version": 3
   },
   "file_extension": ".py",
   "mimetype": "text/x-python",
   "name": "python",
   "nbconvert_exporter": "python",
   "pygments_lexer": "ipython3",
   "version": "3.9.12"
  },
  "vscode": {
   "interpreter": {
    "hash": "bb182e37a17e9ab7984570196a1d6e9593833df194f7de5efc4cc218231042f1"
   }
  }
 },
 "nbformat": 4,
 "nbformat_minor": 5
}
