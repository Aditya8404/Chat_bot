{
 "cells": [
  {
   "cell_type": "code",
   "execution_count": 14,
   "id": "53a1a68c",
   "metadata": {
    "tags": [
     "note"
    ]
   },
   "outputs": [
    {
     "data": {
      "text/plain": [
       "'2.10.0'"
      ]
     },
     "execution_count": 14,
     "metadata": {},
     "output_type": "execute_result"
    }
   ],
   "source": [
    "import tensorflow as tf\n",
    "tf.__version__"
   ]
  },
  {
   "cell_type": "code",
   "execution_count": 15,
   "id": "61e3fb53",
   "metadata": {},
   "outputs": [
    {
     "data": {
      "text/plain": [
       "[PhysicalDevice(name='/physical_device:CPU:0', device_type='CPU'),\n",
       " PhysicalDevice(name='/physical_device:GPU:0', device_type='GPU')]"
      ]
     },
     "execution_count": 15,
     "metadata": {},
     "output_type": "execute_result"
    }
   ],
   "source": [
    "tf.config.list_physical_devices()"
   ]
  },
  {
   "cell_type": "code",
   "execution_count": 16,
   "id": "ff6bd489",
   "metadata": {},
   "outputs": [],
   "source": [
    "import numpy as np\n",
    "cv = np.arange(1,101, step=0.1)\n",
    "tg = [cv + 10 for x in cv]\n",
    "\n",
    "cv = tf.cast(tf.constant(cv),dtype=tf.float32)\n",
    "tg = tf.cast(tf.constant(tg),dtype=tf.float32) \n"
   ]
  },
  {
   "cell_type": "code",
   "execution_count": 17,
   "id": "a34306f9",
   "metadata": {},
   "outputs": [
    {
     "name": "stdout",
     "output_type": "stream",
     "text": [
      "Epoch 1/100\n"
     ]
    },
    {
     "name": "stderr",
     "output_type": "stream",
     "text": [
      "2022-10-24 14:58:26.603087: W tensorflow/core/platform/profile_utils/cpu_utils.cc:128] Failed to get CPU frequency: 0 Hz\n",
      "2022-10-24 14:58:26.828675: I tensorflow/core/grappler/optimizers/custom_graph_optimizer_registry.cc:114] Plugin optimizer for device_type GPU is enabled.\n"
     ]
    },
    {
     "name": "stdout",
     "output_type": "stream",
     "text": [
      "32/32 [==============================] - 3s 18ms/step - loss: 34.4531 - mean_absolute_error: 34.4531\n",
      "Epoch 2/100\n",
      "32/32 [==============================] - 0s 6ms/step - loss: 26.2036 - mean_absolute_error: 26.2036\n",
      "Epoch 3/100\n",
      "32/32 [==============================] - 0s 6ms/step - loss: 25.2325 - mean_absolute_error: 25.2325\n",
      "Epoch 4/100\n",
      "32/32 [==============================] - 0s 6ms/step - loss: 25.0326 - mean_absolute_error: 25.0326\n",
      "Epoch 5/100\n",
      "32/32 [==============================] - 0s 6ms/step - loss: 25.0158 - mean_absolute_error: 25.0158\n",
      "Epoch 6/100\n",
      "32/32 [==============================] - 0s 6ms/step - loss: 25.0084 - mean_absolute_error: 25.0084\n",
      "Epoch 7/100\n",
      "32/32 [==============================] - 0s 6ms/step - loss: 25.0048 - mean_absolute_error: 25.0048\n",
      "Epoch 8/100\n",
      "32/32 [==============================] - 0s 6ms/step - loss: 25.0033 - mean_absolute_error: 25.0033\n",
      "Epoch 9/100\n",
      "32/32 [==============================] - 0s 6ms/step - loss: 25.0026 - mean_absolute_error: 25.0026\n",
      "Epoch 10/100\n",
      "32/32 [==============================] - 0s 5ms/step - loss: 25.0009 - mean_absolute_error: 25.0009\n",
      "Epoch 11/100\n",
      "32/32 [==============================] - 0s 5ms/step - loss: 25.0159 - mean_absolute_error: 25.0159\n",
      "Epoch 12/100\n",
      "32/32 [==============================] - 0s 5ms/step - loss: 25.0126 - mean_absolute_error: 25.0126\n",
      "Epoch 13/100\n",
      "32/32 [==============================] - 0s 5ms/step - loss: 25.0214 - mean_absolute_error: 25.0214\n",
      "Epoch 14/100\n",
      "32/32 [==============================] - 0s 5ms/step - loss: 25.4778 - mean_absolute_error: 25.4778\n",
      "Epoch 15/100\n",
      "32/32 [==============================] - 0s 5ms/step - loss: 25.0426 - mean_absolute_error: 25.0426\n",
      "Epoch 16/100\n",
      "32/32 [==============================] - 0s 5ms/step - loss: 25.0012 - mean_absolute_error: 25.0012\n",
      "Epoch 17/100\n",
      "32/32 [==============================] - 0s 6ms/step - loss: 25.0001 - mean_absolute_error: 25.0001\n",
      "Epoch 18/100\n",
      "32/32 [==============================] - 0s 6ms/step - loss: 25.0000 - mean_absolute_error: 25.0000\n",
      "Epoch 19/100\n",
      "32/32 [==============================] - 0s 6ms/step - loss: 25.0000 - mean_absolute_error: 25.0000\n",
      "Epoch 20/100\n",
      "32/32 [==============================] - 0s 6ms/step - loss: 25.0001 - mean_absolute_error: 25.0001\n",
      "Epoch 21/100\n",
      "32/32 [==============================] - 0s 6ms/step - loss: 25.0001 - mean_absolute_error: 25.0001\n",
      "Epoch 22/100\n",
      "32/32 [==============================] - 0s 6ms/step - loss: 25.0000 - mean_absolute_error: 25.0000\n",
      "Epoch 23/100\n",
      "32/32 [==============================] - 0s 6ms/step - loss: 25.0000 - mean_absolute_error: 25.0000\n",
      "Epoch 24/100\n",
      "32/32 [==============================] - 0s 6ms/step - loss: 25.0001 - mean_absolute_error: 25.0001\n",
      "Epoch 25/100\n",
      "32/32 [==============================] - 0s 6ms/step - loss: 25.0001 - mean_absolute_error: 25.0001\n",
      "Epoch 26/100\n",
      "32/32 [==============================] - 0s 7ms/step - loss: 25.0004 - mean_absolute_error: 25.0004\n",
      "Epoch 27/100\n",
      "32/32 [==============================] - 0s 6ms/step - loss: 25.0004 - mean_absolute_error: 25.0004\n",
      "Epoch 28/100\n",
      "32/32 [==============================] - 0s 6ms/step - loss: 25.0001 - mean_absolute_error: 25.0001\n",
      "Epoch 29/100\n",
      "32/32 [==============================] - 0s 6ms/step - loss: 25.0001 - mean_absolute_error: 25.0001\n",
      "Epoch 30/100\n",
      "32/32 [==============================] - 0s 6ms/step - loss: 25.0005 - mean_absolute_error: 25.0005\n",
      "Epoch 31/100\n",
      "32/32 [==============================] - 0s 6ms/step - loss: 25.0003 - mean_absolute_error: 25.0003\n",
      "Epoch 32/100\n",
      "32/32 [==============================] - 0s 6ms/step - loss: 25.0001 - mean_absolute_error: 25.0001\n",
      "Epoch 33/100\n",
      "32/32 [==============================] - 0s 5ms/step - loss: 25.0003 - mean_absolute_error: 25.0003\n",
      "Epoch 34/100\n",
      "32/32 [==============================] - 0s 6ms/step - loss: 25.0003 - mean_absolute_error: 25.0003\n",
      "Epoch 35/100\n",
      "32/32 [==============================] - 0s 6ms/step - loss: 25.0003 - mean_absolute_error: 25.0003\n",
      "Epoch 36/100\n",
      "32/32 [==============================] - 0s 6ms/step - loss: 25.0005 - mean_absolute_error: 25.0005\n",
      "Epoch 37/100\n",
      "32/32 [==============================] - 0s 6ms/step - loss: 25.0038 - mean_absolute_error: 25.0038\n",
      "Epoch 38/100\n",
      "32/32 [==============================] - 0s 5ms/step - loss: 25.0596 - mean_absolute_error: 25.0596\n",
      "Epoch 39/100\n",
      "32/32 [==============================] - 0s 6ms/step - loss: 25.6988 - mean_absolute_error: 25.6988\n",
      "Epoch 40/100\n",
      "32/32 [==============================] - 0s 5ms/step - loss: 25.0282 - mean_absolute_error: 25.0282\n",
      "Epoch 41/100\n",
      "32/32 [==============================] - 0s 6ms/step - loss: 25.0009 - mean_absolute_error: 25.0009\n",
      "Epoch 42/100\n",
      "32/32 [==============================] - 0s 5ms/step - loss: 25.0001 - mean_absolute_error: 25.0001\n",
      "Epoch 43/100\n",
      "32/32 [==============================] - 0s 6ms/step - loss: 25.0000 - mean_absolute_error: 25.0000\n",
      "Epoch 44/100\n",
      "32/32 [==============================] - 0s 6ms/step - loss: 25.0001 - mean_absolute_error: 25.0001\n",
      "Epoch 45/100\n",
      "32/32 [==============================] - 0s 6ms/step - loss: 25.0001 - mean_absolute_error: 25.0001\n",
      "Epoch 46/100\n",
      "32/32 [==============================] - 0s 6ms/step - loss: 25.0001 - mean_absolute_error: 25.0001\n",
      "Epoch 47/100\n",
      "32/32 [==============================] - 0s 6ms/step - loss: 25.0000 - mean_absolute_error: 25.0000\n",
      "Epoch 48/100\n",
      "32/32 [==============================] - 0s 5ms/step - loss: 25.0001 - mean_absolute_error: 25.0001\n",
      "Epoch 49/100\n",
      "32/32 [==============================] - 0s 6ms/step - loss: 25.0000 - mean_absolute_error: 25.0000\n",
      "Epoch 50/100\n",
      "32/32 [==============================] - 0s 6ms/step - loss: 25.0000 - mean_absolute_error: 25.0000\n",
      "Epoch 51/100\n",
      "32/32 [==============================] - 0s 5ms/step - loss: 25.0000 - mean_absolute_error: 25.0000\n",
      "Epoch 52/100\n",
      "32/32 [==============================] - 0s 6ms/step - loss: 25.0001 - mean_absolute_error: 25.0001\n",
      "Epoch 53/100\n",
      "32/32 [==============================] - 0s 6ms/step - loss: 25.0000 - mean_absolute_error: 25.0000\n",
      "Epoch 54/100\n",
      "32/32 [==============================] - 0s 6ms/step - loss: 25.0001 - mean_absolute_error: 25.0001\n",
      "Epoch 55/100\n",
      "32/32 [==============================] - 0s 6ms/step - loss: 25.0001 - mean_absolute_error: 25.0001\n",
      "Epoch 56/100\n",
      "32/32 [==============================] - 0s 6ms/step - loss: 25.0001 - mean_absolute_error: 25.0001\n",
      "Epoch 57/100\n",
      "32/32 [==============================] - 0s 6ms/step - loss: 25.0001 - mean_absolute_error: 25.0001\n",
      "Epoch 58/100\n",
      "32/32 [==============================] - 0s 5ms/step - loss: 25.0000 - mean_absolute_error: 25.0000\n",
      "Epoch 59/100\n",
      "32/32 [==============================] - 0s 6ms/step - loss: 25.0001 - mean_absolute_error: 25.0001\n",
      "Epoch 60/100\n",
      "32/32 [==============================] - 0s 5ms/step - loss: 25.0001 - mean_absolute_error: 25.0001\n",
      "Epoch 61/100\n",
      "32/32 [==============================] - 0s 6ms/step - loss: 25.0002 - mean_absolute_error: 25.0002\n",
      "Epoch 62/100\n",
      "32/32 [==============================] - 0s 6ms/step - loss: 25.0002 - mean_absolute_error: 25.0002\n",
      "Epoch 63/100\n",
      "32/32 [==============================] - 0s 6ms/step - loss: 25.0002 - mean_absolute_error: 25.0002\n",
      "Epoch 64/100\n",
      "32/32 [==============================] - 0s 5ms/step - loss: 25.0001 - mean_absolute_error: 25.0001\n",
      "Epoch 65/100\n",
      "32/32 [==============================] - 0s 6ms/step - loss: 25.0001 - mean_absolute_error: 25.0001\n",
      "Epoch 66/100\n",
      "32/32 [==============================] - 0s 6ms/step - loss: 25.0001 - mean_absolute_error: 25.0001\n",
      "Epoch 67/100\n",
      "32/32 [==============================] - 0s 6ms/step - loss: 25.0001 - mean_absolute_error: 25.0001\n",
      "Epoch 68/100\n",
      "32/32 [==============================] - 0s 6ms/step - loss: 25.0001 - mean_absolute_error: 25.0001\n",
      "Epoch 69/100\n",
      "32/32 [==============================] - 0s 6ms/step - loss: 25.0001 - mean_absolute_error: 25.0001\n",
      "Epoch 70/100\n",
      "32/32 [==============================] - 0s 6ms/step - loss: 25.0004 - mean_absolute_error: 25.0004\n",
      "Epoch 71/100\n",
      "32/32 [==============================] - 0s 6ms/step - loss: 25.0006 - mean_absolute_error: 25.0006\n",
      "Epoch 72/100\n",
      "32/32 [==============================] - 0s 6ms/step - loss: 25.0004 - mean_absolute_error: 25.0004\n",
      "Epoch 73/100\n",
      "32/32 [==============================] - 0s 6ms/step - loss: 25.0007 - mean_absolute_error: 25.0007\n",
      "Epoch 74/100\n",
      "32/32 [==============================] - 0s 6ms/step - loss: 25.0004 - mean_absolute_error: 25.0004\n",
      "Epoch 75/100\n",
      "32/32 [==============================] - 0s 6ms/step - loss: 25.0004 - mean_absolute_error: 25.0004\n",
      "Epoch 76/100\n",
      "32/32 [==============================] - 0s 6ms/step - loss: 25.0007 - mean_absolute_error: 25.0007\n",
      "Epoch 77/100\n",
      "32/32 [==============================] - 0s 6ms/step - loss: 25.0004 - mean_absolute_error: 25.0004\n",
      "Epoch 78/100\n",
      "32/32 [==============================] - 0s 6ms/step - loss: 25.0009 - mean_absolute_error: 25.0009\n",
      "Epoch 79/100\n",
      "32/32 [==============================] - 0s 6ms/step - loss: 25.0007 - mean_absolute_error: 25.0007\n",
      "Epoch 80/100\n",
      "32/32 [==============================] - 0s 6ms/step - loss: 25.0002 - mean_absolute_error: 25.0002\n",
      "Epoch 81/100\n",
      "32/32 [==============================] - 0s 6ms/step - loss: 25.0003 - mean_absolute_error: 25.0003\n",
      "Epoch 82/100\n",
      "32/32 [==============================] - 0s 6ms/step - loss: 25.0007 - mean_absolute_error: 25.0007\n",
      "Epoch 83/100\n",
      "32/32 [==============================] - 0s 6ms/step - loss: 25.0020 - mean_absolute_error: 25.0020\n",
      "Epoch 84/100\n",
      "32/32 [==============================] - 0s 6ms/step - loss: 25.0003 - mean_absolute_error: 25.0003\n",
      "Epoch 85/100\n",
      "32/32 [==============================] - 0s 6ms/step - loss: 25.0003 - mean_absolute_error: 25.0003\n",
      "Epoch 86/100\n",
      "32/32 [==============================] - 0s 6ms/step - loss: 25.0017 - mean_absolute_error: 25.0017\n",
      "Epoch 87/100\n",
      "32/32 [==============================] - 0s 6ms/step - loss: 25.0005 - mean_absolute_error: 25.0005\n",
      "Epoch 88/100\n",
      "32/32 [==============================] - 0s 6ms/step - loss: 25.0008 - mean_absolute_error: 25.0008\n",
      "Epoch 89/100\n",
      "32/32 [==============================] - 0s 6ms/step - loss: 25.0068 - mean_absolute_error: 25.0068\n",
      "Epoch 90/100\n",
      "32/32 [==============================] - 0s 6ms/step - loss: 25.0042 - mean_absolute_error: 25.0042\n",
      "Epoch 91/100\n",
      "32/32 [==============================] - 0s 6ms/step - loss: 25.0029 - mean_absolute_error: 25.0029\n",
      "Epoch 92/100\n",
      "32/32 [==============================] - 0s 6ms/step - loss: 25.0102 - mean_absolute_error: 25.0102\n",
      "Epoch 93/100\n",
      "32/32 [==============================] - 0s 6ms/step - loss: 25.0003 - mean_absolute_error: 25.0003\n",
      "Epoch 94/100\n",
      "32/32 [==============================] - 0s 6ms/step - loss: 25.0002 - mean_absolute_error: 25.0002\n",
      "Epoch 95/100\n",
      "32/32 [==============================] - 0s 6ms/step - loss: 25.0005 - mean_absolute_error: 25.0005\n",
      "Epoch 96/100\n",
      "32/32 [==============================] - 0s 6ms/step - loss: 25.0003 - mean_absolute_error: 25.0003\n",
      "Epoch 97/100\n",
      "32/32 [==============================] - 0s 6ms/step - loss: 25.0070 - mean_absolute_error: 25.0070\n",
      "Epoch 98/100\n",
      "32/32 [==============================] - 0s 6ms/step - loss: 25.0014 - mean_absolute_error: 25.0014\n",
      "Epoch 99/100\n",
      "32/32 [==============================] - 0s 6ms/step - loss: 25.0012 - mean_absolute_error: 25.0012\n",
      "Epoch 100/100\n",
      "32/32 [==============================] - 0s 6ms/step - loss: 25.0002 - mean_absolute_error: 25.0002\n"
     ]
    },
    {
     "data": {
      "text/plain": [
       "<keras.callbacks.History at 0x164e370a0>"
      ]
     },
     "execution_count": 17,
     "metadata": {},
     "output_type": "execute_result"
    }
   ],
   "source": [
    "model = tf.keras.Sequential([\n",
    "    tf.keras.layers.Dense(64,input_shape=(1,),activation='relu'),\n",
    "    tf.keras.layers.Dense(64,activation='relu'),\n",
    "    tf.keras.layers.Dense(1)\n",
    "])\n",
    "model.compile(\n",
    "    loss=tf.keras.losses.mean_absolute_error,\n",
    "    optimizer = tf.keras.optimizers.Adam(learning_rate=0.1),\n",
    "    metrics=['mean_absolute_error']\n",
    ")\n",
    "model.fit(cv,tg,epochs = 100)"
   ]
  },
  {
   "cell_type": "code",
   "execution_count": null,
   "id": "68903095",
   "metadata": {},
   "outputs": [],
   "source": []
  }
 ],
 "metadata": {
  "kernelspec": {
   "display_name": "Python 3.10.7 64-bit",
   "language": "python",
   "name": "python3"
  },
  "language_info": {
   "codemirror_mode": {
    "name": "ipython",
    "version": 3
   },
   "file_extension": ".py",
   "mimetype": "text/x-python",
   "name": "python",
   "nbconvert_exporter": "python",
   "pygments_lexer": "ipython3",
   "version": "3.10.7"
  },
  "vscode": {
   "interpreter": {
    "hash": "3075602fe07dfbfad68e36544cfcd65990cacb611b1ced0126e3839888a1e43b"
   }
  }
 },
 "nbformat": 4,
 "nbformat_minor": 5
}
