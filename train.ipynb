{
 "cells": [
  {
   "cell_type": "code",
   "execution_count": 14,
   "metadata": {},
   "outputs": [
    {
     "ename": "KeyError",
     "evalue": "'patterns'",
     "output_type": "error",
     "traceback": [
      "\u001b[0;31m---------------------------------------------------------------------------\u001b[0m",
      "\u001b[0;31mKeyError\u001b[0m                                  Traceback (most recent call last)",
      "\u001b[1;32m/Users/yash/Desktop/Github/Chat_bot/Chat_bot/train.ipynb Cell 1\u001b[0m in \u001b[0;36m<cell line: 10>\u001b[0;34m()\u001b[0m\n\u001b[1;32m     <a href='vscode-notebook-cell:/Users/yash/Desktop/Github/Chat_bot/Chat_bot/train.ipynb#W0sZmlsZQ%3D%3D?line=10'>11</a>\u001b[0m tag \u001b[39m=\u001b[39m intent[\u001b[39m'\u001b[39m\u001b[39mtag\u001b[39m\u001b[39m'\u001b[39m]\n\u001b[1;32m     <a href='vscode-notebook-cell:/Users/yash/Desktop/Github/Chat_bot/Chat_bot/train.ipynb#W0sZmlsZQ%3D%3D?line=11'>12</a>\u001b[0m tags\u001b[39m.\u001b[39mappend(tag)\n\u001b[0;32m---> <a href='vscode-notebook-cell:/Users/yash/Desktop/Github/Chat_bot/Chat_bot/train.ipynb#W0sZmlsZQ%3D%3D?line=12'>13</a>\u001b[0m \u001b[39mfor\u001b[39;00m pattern \u001b[39min\u001b[39;00m intents[\u001b[39m'\u001b[39;49m\u001b[39mpatterns\u001b[39;49m\u001b[39m'\u001b[39;49m]:\n\u001b[1;32m     <a href='vscode-notebook-cell:/Users/yash/Desktop/Github/Chat_bot/Chat_bot/train.ipynb#W0sZmlsZQ%3D%3D?line=13'>14</a>\u001b[0m      w \u001b[39m=\u001b[39m tokenize(pattern)\n\u001b[1;32m     <a href='vscode-notebook-cell:/Users/yash/Desktop/Github/Chat_bot/Chat_bot/train.ipynb#W0sZmlsZQ%3D%3D?line=14'>15</a>\u001b[0m      all_words\u001b[39m.\u001b[39mextend(w)\n",
      "\u001b[0;31mKeyError\u001b[0m: 'patterns'"
     ]
    }
   ],
   "source": [
    "import json\n",
    "\n",
    "with open('intents.json', 'r') as f:\n",
    "     intents = json.load(f)\n",
    "\n",
    "all_words = []\n",
    "tags = []\n",
    "xy = []\n",
    "\n",
    "for intent in intents['intents']:\n",
    "     tag = intent['tag']\n",
    "     tags.append(tag)\n",
    "     for pattern in intents['patterns']:\n",
    "          w = tokenize(pattern)\n",
    "          all_words.extend(w)\n",
    "          xy.append((w, tag))\n",
    "          \n",
    "          "
   ]
  }
 ],
 "metadata": {
  "kernelspec": {
   "display_name": "Python 3.9.12 ('base')",
   "language": "python",
   "name": "python3"
  },
  "language_info": {
   "codemirror_mode": {
    "name": "ipython",
    "version": 3
   },
   "file_extension": ".py",
   "mimetype": "text/x-python",
   "name": "python",
   "nbconvert_exporter": "python",
   "pygments_lexer": "ipython3",
   "version": "3.9.12"
  },
  "orig_nbformat": 4,
  "vscode": {
   "interpreter": {
    "hash": "4a295f547b857b6d1c036bf613fd02f2f2c415b5aed72c446f72f5298249153d"
   }
  }
 },
 "nbformat": 4,
 "nbformat_minor": 2
}
